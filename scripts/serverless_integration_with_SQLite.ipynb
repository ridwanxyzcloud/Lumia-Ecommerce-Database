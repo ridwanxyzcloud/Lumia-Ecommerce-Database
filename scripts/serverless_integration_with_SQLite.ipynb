{
 "cells": [
  {
   "cell_type": "markdown",
   "metadata": {},
   "source": [
    "# Creating the Lumia eCommerce Database\n"
   ]
  },
  {
   "cell_type": "code",
   "execution_count": null,
   "metadata": {},
   "outputs": [],
   "source": [
    "# install the required sql magic packages\n",
    "!pip install sqlalchemy\n",
    "!pip install ipython-sql\n",
    "!pip install pymysql "
   ]
  },
  {
   "cell_type": "markdown",
   "metadata": {},
   "source": [
    "## Setting up Severless database engine "
   ]
  },
  {
   "cell_type": "code",
   "execution_count": 2,
   "metadata": {},
   "outputs": [],
   "source": [
    "# import the necessary packages\n",
    "import sqlite3\n",
    "from sqlalchemy import create_engine\n",
    "import pandas as pd\n"
   ]
  },
  {
   "cell_type": "code",
   "execution_count": 4,
   "metadata": {},
   "outputs": [
    {
     "data": {
      "text/plain": [
       "<sqlite3.Cursor at 0x127369d40>"
      ]
     },
     "execution_count": 4,
     "metadata": {},
     "output_type": "execute_result"
    }
   ],
   "source": [
    "# connect sqlite database (it will be created if it doesnt exist)\n",
    "\n",
    "# Load the SQL extensions\n",
    "%reload_ext sql\n",
    "\n",
    "# Create engine \n",
    "engine = create_engine(\"sqlite:///lumia_ecommerce.db\")\n",
    "%config SQL.conn_name = 'engine'\n",
    "\n",
    "conn = sqlite3.connect(\"lumia_ecommerce.db\")\n",
    "cursor = conn.cursor()\n",
    "\n",
    "# Connect to the SQLite database\n",
    "%sql sqlite:///lumia_ecommerce.db\n",
    "# Data Defination Language\n",
    "# create tables \n",
    "cursor.execute('''\n",
    "CREATE TABLE IF NOT EXISTS products (\n",
    "               product_id INTEGER PRIMARY KEY,\n",
    "               product_name TEXT NOT NULL,\n",
    "               price DECIMAL NOT NULL,\n",
    "               category TEXT NOT NULL\n",
    ");\n",
    "''')\n",
    "\n",
    "cursor.execute('''\n",
    "CREATE TABLE IF NOT EXISTS customers(\n",
    "               customer_id INTEGER PRIMARY KEY,\n",
    "               name TEXT NOT NULL,\n",
    "               email TEXT \n",
    ");\n",
    "''')\n",
    "\n",
    "cursor.execute('''\n",
    "CREATE TABLE IF NOT EXISTS orders(\n",
    "               order_id INTEGER PRIMARY KEY,\n",
    "               customer_id INTEGER NOT NULL,\n",
    "               order_date DATE NOT NULL,\n",
    "               FOREIGN KEY (customer_id) REFERENCES customers(customer_id)\n",
    ");\n",
    "''')\n",
    "\n",
    "cursor.execute('''\n",
    "CREATE TABLE IF NOT EXISTS order_items(\n",
    "               order_item_id INTEGER PRIMARY KEY,\n",
    "               order_id INTEGER NOT NULL,\n",
    "               product_id INTEGER NOT NULL,\n",
    "               quantity INTEGER NOT NULL,\n",
    "               FOREIGN KEY (order_id) REFERENCES orders(order_id),\n",
    "               FOREIGN KEY (product_id) REFERENCES products(product_id)\n",
    "\n",
    ");\n",
    "''')"
   ]
  },
  {
   "cell_type": "markdown",
   "metadata": {},
   "source": [
    "#### this can equally work "
   ]
  },
  {
   "cell_type": "code",
   "execution_count": null,
   "metadata": {},
   "outputs": [],
   "source": [
    "from sqlalchemy import create_engine\n",
    "\n",
    "# Load the SQL extensions\n",
    "%load_ext sql\n",
    "\n",
    "# Create engine to connect to the SQLite database\n",
    "engine = create_engine(\"sqlite:///lumia_ecommerce.db\")\n",
    "\n",
    "# Connect to the SQLite database using the %sql magic command\n",
    "%sql sqlite:///lumia_ecommerce.db\n",
    "\n",
    "# Create tables using SQL\n",
    "\n",
    "# Table: products\n",
    "%%sql CREATE TABLE IF NOT EXISTS products (\n",
    "               product_id INTEGER PRIMARY KEY,\n",
    "               product_name TEXT NOT NULL,\n",
    "               price DECIMAL NOT NULL,\n",
    "               category TEXT NOT NULL\n",
    ")\n",
    "\n",
    "# Table: customers\n",
    "%%sql CREATE TABLE IF NOT EXISTS customers (\n",
    "               customer_id INTEGER PRIMARY KEY,\n",
    "               name TEXT NOT NULL,\n",
    "               email TEXT \n",
    ")\n",
    "\n",
    "# Table: orders\n",
    "%%sql CREATE TABLE IF NOT EXISTS orders (\n",
    "               order_id INTEGER PRIMARY KEY,\n",
    "               customer_id INTEGER NOT NULL,\n",
    "               order_date DATE NOT NULL,\n",
    "               FOREIGN KEY (customer_id) REFERENCES customers(customer_id)\n",
    ")\n",
    "\n",
    "# Table: order_items\n",
    "%%sql CREATE TABLE IF NOT EXISTS order_items (\n",
    "               order_item_id INTEGER PRIMARY KEY,\n",
    "               order_id INTEGER NOT NULL,\n",
    "               product_id INTEGER NOT NULL,\n",
    "               quantity INTEGER NOT NULL,\n",
    "               FOREIGN KEY (order_id) REFERENCES orders(order_id),\n",
    "               FOREIGN KEY (product_id) REFERENCES products(product_id)\n",
    ")\n"
   ]
  },
  {
   "cell_type": "code",
   "execution_count": 5,
   "metadata": {},
   "outputs": [
    {
     "name": "stdout",
     "output_type": "stream",
     "text": [
      " * sqlite:///lumia_ecommerce.db\n",
      "Done.\n"
     ]
    },
    {
     "data": {
      "text/html": [
       "<table>\n",
       "    <thead>\n",
       "        <tr>\n",
       "            <th>name</th>\n",
       "        </tr>\n",
       "    </thead>\n",
       "    <tbody>\n",
       "        <tr>\n",
       "            <td>customers</td>\n",
       "        </tr>\n",
       "        <tr>\n",
       "            <td>order_items</td>\n",
       "        </tr>\n",
       "        <tr>\n",
       "            <td>orders</td>\n",
       "        </tr>\n",
       "        <tr>\n",
       "            <td>products</td>\n",
       "        </tr>\n",
       "    </tbody>\n",
       "</table>"
      ],
      "text/plain": [
       "[('customers',), ('order_items',), ('orders',), ('products',)]"
      ]
     },
     "execution_count": 5,
     "metadata": {},
     "output_type": "execute_result"
    }
   ],
   "source": [
    "%%sql # this converts the cell to SQL cell\n",
    "SELECT name FROM sqlite_master WHERE type in ('table', 'view') AND name NOT LIKE 'sqlite_%' ORDER BY 1"
   ]
  },
  {
   "cell_type": "code",
   "execution_count": 10,
   "metadata": {},
   "outputs": [
    {
     "name": "stdout",
     "output_type": "stream",
     "text": [
      " * sqlite:///lumia_ecommerce.db\n",
      "Done.\n"
     ]
    },
    {
     "data": {
      "text/html": [
       "<table>\n",
       "    <thead>\n",
       "        <tr>\n",
       "            <th>customer_id</th>\n",
       "            <th>name</th>\n",
       "            <th>email</th>\n",
       "        </tr>\n",
       "    </thead>\n",
       "    <tbody>\n",
       "    </tbody>\n",
       "</table>"
      ],
      "text/plain": [
       "[]"
      ]
     },
     "execution_count": 10,
     "metadata": {},
     "output_type": "execute_result"
    }
   ],
   "source": [
    "%%sql\n",
    "SELECT * FROM customers;\n"
   ]
  },
  {
   "cell_type": "code",
   "execution_count": 11,
   "metadata": {},
   "outputs": [],
   "source": [
    "# function to load data into the table \n",
    "def load_data_to_table(csv_path, table_name):\n",
    "    df = pd.read_csv(csv_path)\n",
    "    df.to_sql(table_name, conn, if_exists='append', index=False)\n",
    "\n"
   ]
  },
  {
   "cell_type": "code",
   "execution_count": 16,
   "metadata": {},
   "outputs": [],
   "source": [
    "# calling the function for each table with their relevant csv files and relative path \n",
    "load_data_to_table('../data/raw_datasets/products.csv', 'products')\n",
    "load_data_to_table('../data/raw_datasets/customers.csv', 'customers')\n",
    "load_data_to_table('../data/raw_datasets/orders.csv', 'orders')\n",
    "load_data_to_table('../data/raw_datasets/order_items.csv', 'order_items')"
   ]
  },
  {
   "cell_type": "markdown",
   "metadata": {},
   "source": [
    "# Data manipulations using DML\n",
    "\n"
   ]
  },
  {
   "cell_type": "markdown",
   "metadata": {},
   "source": [
    "### INSERT\n"
   ]
  },
  {
   "cell_type": "code",
   "execution_count": 17,
   "metadata": {},
   "outputs": [
    {
     "name": "stdout",
     "output_type": "stream",
     "text": [
      " * sqlite:///lumia_ecommerce.db\n",
      "1 rows affected.\n"
     ]
    },
    {
     "data": {
      "text/plain": [
       "[]"
      ]
     },
     "execution_count": 17,
     "metadata": {},
     "output_type": "execute_result"
    }
   ],
   "source": [
    "%%sql\n",
    "INSERT INTO products (product_name, price, category) \n",
    "VALUES ('LG TV', 349.99, 'electronics')"
   ]
  },
  {
   "cell_type": "code",
   "execution_count": 20,
   "metadata": {},
   "outputs": [
    {
     "name": "stdout",
     "output_type": "stream",
     "text": [
      " * sqlite:///lumia_ecommerce.db\n",
      "Done.\n"
     ]
    },
    {
     "data": {
      "text/html": [
       "<table>\n",
       "    <thead>\n",
       "        <tr>\n",
       "            <th>product_id</th>\n",
       "            <th>product_name</th>\n",
       "            <th>price</th>\n",
       "            <th>category</th>\n",
       "        </tr>\n",
       "    </thead>\n",
       "    <tbody>\n",
       "        <tr>\n",
       "            <td>1001</td>\n",
       "            <td>LG TV</td>\n",
       "            <td>349.99</td>\n",
       "            <td>electronics</td>\n",
       "        </tr>\n",
       "    </tbody>\n",
       "</table>"
      ],
      "text/plain": [
       "[(1001, 'LG TV', 349.99, 'electronics')]"
      ]
     },
     "execution_count": 20,
     "metadata": {},
     "output_type": "execute_result"
    }
   ],
   "source": [
    "%%sql\n",
    "SELECT * FROM products \n",
    "WHERE product_name LIKE '%TV'"
   ]
  },
  {
   "cell_type": "code",
   "execution_count": 26,
   "metadata": {},
   "outputs": [
    {
     "data": {
      "text/plain": [
       "[(1, 'Product 1', 193.52, 'Fashion'),\n",
       " (2, 'Product 2', 475.85, 'Home & Kitchen'),\n",
       " (3, 'Product 3', 368.68, 'Toys'),\n",
       " (4, 'Product 4', 303.34, 'Electronics'),\n",
       " (5, 'Product 5', 86.45, 'Toys')]"
      ]
     },
     "execution_count": 26,
     "metadata": {},
     "output_type": "execute_result"
    }
   ],
   "source": [
    "# using python\n",
    "result = cursor.execute('''\n",
    "SELECT * FROM products LIMIT 5;\n",
    "''')\n",
    "result.fetchall()"
   ]
  },
  {
   "cell_type": "markdown",
   "metadata": {},
   "source": [
    "### UPDATE"
   ]
  },
  {
   "cell_type": "code",
   "execution_count": 33,
   "metadata": {},
   "outputs": [
    {
     "name": "stdout",
     "output_type": "stream",
     "text": [
      " * sqlite:///lumia_ecommerce.db\n",
      "1 rows affected.\n"
     ]
    },
    {
     "data": {
      "text/plain": [
       "[]"
      ]
     },
     "execution_count": 33,
     "metadata": {},
     "output_type": "execute_result"
    }
   ],
   "source": [
    "%%sql\n",
    "UPDATE customers SET email = 'ridwanclouds@ridwanclouds.com'\n",
    "WHERE name = 'Customer1';"
   ]
  },
  {
   "cell_type": "markdown",
   "metadata": {},
   "source": [
    "### DELETE"
   ]
  },
  {
   "cell_type": "code",
   "execution_count": 35,
   "metadata": {},
   "outputs": [
    {
     "name": "stdout",
     "output_type": "stream",
     "text": [
      " * sqlite:///lumia_ecommerce.db\n",
      "1 rows affected.\n"
     ]
    },
    {
     "data": {
      "text/plain": [
       "[]"
      ]
     },
     "execution_count": 35,
     "metadata": {},
     "output_type": "execute_result"
    }
   ],
   "source": [
    "%%sql\n",
    "DELETE FROM orders\n",
    "WHERE order_id = 1;"
   ]
  },
  {
   "cell_type": "markdown",
   "metadata": {},
   "source": [
    "### Data Query Language"
   ]
  },
  {
   "cell_type": "code",
   "execution_count": 42,
   "metadata": {},
   "outputs": [
    {
     "name": "stdout",
     "output_type": "stream",
     "text": [
      " * sqlite:///lumia_ecommerce.db\n",
      "Done.\n"
     ]
    },
    {
     "data": {
      "text/html": [
       "<table>\n",
       "    <thead>\n",
       "        <tr>\n",
       "            <th>COUNT(*)</th>\n",
       "        </tr>\n",
       "    </thead>\n",
       "    <tbody>\n",
       "        <tr>\n",
       "            <td>139</td>\n",
       "        </tr>\n",
       "    </tbody>\n",
       "</table>"
      ],
      "text/plain": [
       "[(139,)]"
      ]
     },
     "execution_count": 42,
     "metadata": {},
     "output_type": "execute_result"
    }
   ],
   "source": [
    "%%sql\n",
    "SELECT COUNT(*)\n",
    "FROM orders\n",
    "WHERE order_date BETWEEN '2022-01-01' AND '2022-12-01';"
   ]
  },
  {
   "cell_type": "markdown",
   "metadata": {},
   "source": [
    "### Applying aggregate fucntions\n"
   ]
  },
  {
   "cell_type": "markdown",
   "metadata": {},
   "source": [
    "* Calculating sales per category"
   ]
  },
  {
   "cell_type": "code",
   "execution_count": 48,
   "metadata": {},
   "outputs": [
    {
     "name": "stdout",
     "output_type": "stream",
     "text": [
      " * sqlite:///lumia_ecommerce.db\n",
      "Done.\n"
     ]
    },
    {
     "data": {
      "text/html": [
       "<table>\n",
       "    <thead>\n",
       "        <tr>\n",
       "            <th>category</th>\n",
       "            <th>Total Sales</th>\n",
       "        </tr>\n",
       "    </thead>\n",
       "    <tbody>\n",
       "        <tr>\n",
       "            <td>Books</td>\n",
       "            <td>819475.7699999996</td>\n",
       "        </tr>\n",
       "        <tr>\n",
       "            <td>Electronics</td>\n",
       "            <td>782752.7699999994</td>\n",
       "        </tr>\n",
       "        <tr>\n",
       "            <td>Fashion</td>\n",
       "            <td>794716.4500000014</td>\n",
       "        </tr>\n",
       "        <tr>\n",
       "            <td>Home &amp; Kitchen</td>\n",
       "            <td>662919.4899999999</td>\n",
       "        </tr>\n",
       "        <tr>\n",
       "            <td>Toys</td>\n",
       "            <td>716282.3800000007</td>\n",
       "        </tr>\n",
       "    </tbody>\n",
       "</table>"
      ],
      "text/plain": [
       "[('Books', 819475.7699999996),\n",
       " ('Electronics', 782752.7699999994),\n",
       " ('Fashion', 794716.4500000014),\n",
       " ('Home & Kitchen', 662919.4899999999),\n",
       " ('Toys', 716282.3800000007)]"
      ]
     },
     "execution_count": 48,
     "metadata": {},
     "output_type": "execute_result"
    }
   ],
   "source": [
    "%%sql\n",
    "SELECT  category, SUM(price * quantity) as 'Total Sales'\n",
    "FROM order_items as oi, products as p\n",
    "WHERE oi.product_id = p.product_id\n",
    "GROUP BY category;"
   ]
  },
  {
   "cell_type": "markdown",
   "metadata": {},
   "source": [
    "* Calculating highest selling product"
   ]
  },
  {
   "cell_type": "code",
   "execution_count": 51,
   "metadata": {},
   "outputs": [
    {
     "name": "stdout",
     "output_type": "stream",
     "text": [
      " * sqlite:///lumia_ecommerce.db\n",
      "Done.\n"
     ]
    },
    {
     "data": {
      "text/html": [
       "<table>\n",
       "    <thead>\n",
       "        <tr>\n",
       "            <th>product_id</th>\n",
       "            <th>Total Quantity</th>\n",
       "        </tr>\n",
       "    </thead>\n",
       "    <tbody>\n",
       "        <tr>\n",
       "            <td>1000</td>\n",
       "            <td>14</td>\n",
       "        </tr>\n",
       "        <tr>\n",
       "            <td>999</td>\n",
       "            <td>17</td>\n",
       "        </tr>\n",
       "        <tr>\n",
       "            <td>998</td>\n",
       "            <td>6</td>\n",
       "        </tr>\n",
       "        <tr>\n",
       "            <td>997</td>\n",
       "            <td>14</td>\n",
       "        </tr>\n",
       "        <tr>\n",
       "            <td>996</td>\n",
       "            <td>14</td>\n",
       "        </tr>\n",
       "    </tbody>\n",
       "</table>"
      ],
      "text/plain": [
       "[(1000, 14), (999, 17), (998, 6), (997, 14), (996, 14)]"
      ]
     },
     "execution_count": 51,
     "metadata": {},
     "output_type": "execute_result"
    }
   ],
   "source": [
    "%%sql\n",
    "SELECT product_id, SUM(quantity) as 'Total Quantity'\n",
    "FROM order_items\n",
    "GROUP BY product_id\n",
    "ORDER BY 'Total Quantity' DESC\n",
    "LIMIT 5;"
   ]
  },
  {
   "cell_type": "code",
   "execution_count": 59,
   "metadata": {},
   "outputs": [
    {
     "name": "stdout",
     "output_type": "stream",
     "text": [
      " * sqlite:///lumia_ecommerce.db\n",
      "Done.\n"
     ]
    },
    {
     "data": {
      "text/html": [
       "<table>\n",
       "    <thead>\n",
       "        <tr>\n",
       "            <th>Total Electronics Products</th>\n",
       "        </tr>\n",
       "    </thead>\n",
       "    <tbody>\n",
       "        <tr>\n",
       "            <td>193</td>\n",
       "        </tr>\n",
       "    </tbody>\n",
       "</table>"
      ],
      "text/plain": [
       "[(193,)]"
      ]
     },
     "execution_count": 59,
     "metadata": {},
     "output_type": "execute_result"
    }
   ],
   "source": [
    "%%sql\n",
    "SELECT COUNT(*) AS \"Total Electronics Products\"\n",
    "FROM products\n",
    "WHERE category = 'Electronics';"
   ]
  },
  {
   "cell_type": "markdown",
   "metadata": {},
   "source": [
    "#### HAVING clause\n"
   ]
  },
  {
   "cell_type": "code",
   "execution_count": 60,
   "metadata": {},
   "outputs": [
    {
     "data": {
      "text/plain": [
       "'\\nSELECT columns\\nFROM tables\\nGROUP BY  columns\\nHAVING boolean expressions\\n'"
      ]
     },
     "execution_count": 60,
     "metadata": {},
     "output_type": "execute_result"
    }
   ],
   "source": [
    "\n",
    "'''\n",
    "SELECT columns\n",
    "FROM tables\n",
    "GROUP BY  columns\n",
    "HAVING boolean expressions\n",
    "'''"
   ]
  },
  {
   "cell_type": "markdown",
   "metadata": {},
   "source": [
    "* Categories with more than 1000 sales"
   ]
  },
  {
   "cell_type": "code",
   "execution_count": 85,
   "metadata": {},
   "outputs": [
    {
     "name": "stdout",
     "output_type": "stream",
     "text": [
      " * sqlite:///lumia_ecommerce.db\n",
      "Done.\n"
     ]
    },
    {
     "data": {
      "text/html": [
       "<table>\n",
       "    <thead>\n",
       "        <tr>\n",
       "            <th>category</th>\n",
       "            <th>orders_count</th>\n",
       "        </tr>\n",
       "    </thead>\n",
       "    <tbody>\n",
       "        <tr>\n",
       "            <td>Books</td>\n",
       "            <td>1302</td>\n",
       "        </tr>\n",
       "        <tr>\n",
       "            <td>Electronics</td>\n",
       "            <td>1181</td>\n",
       "        </tr>\n",
       "        <tr>\n",
       "            <td>Fashion</td>\n",
       "            <td>1245</td>\n",
       "        </tr>\n",
       "        <tr>\n",
       "            <td>Toys</td>\n",
       "            <td>1251</td>\n",
       "        </tr>\n",
       "    </tbody>\n",
       "</table>"
      ],
      "text/plain": [
       "[('Books', 1302), ('Electronics', 1181), ('Fashion', 1245), ('Toys', 1251)]"
      ]
     },
     "execution_count": 85,
     "metadata": {},
     "output_type": "execute_result"
    }
   ],
   "source": [
    "%%sql\n",
    "SELECT p.category, COUNT(o.order_id) as 'orders_count'\n",
    "FROM orders o, products p, order_items oi\n",
    "WHERE o.order_id = oi.order_id \n",
    "    AND\n",
    "    oi.product_id = p.product_id\n",
    "GROUP BY p.category\n",
    "HAVING orders_count >1100;\n",
    "\n",
    "    "
   ]
  },
  {
   "cell_type": "markdown",
   "metadata": {},
   "source": [
    "* Average product price per category ordered by average price "
   ]
  },
  {
   "cell_type": "code",
   "execution_count": 80,
   "metadata": {},
   "outputs": [
    {
     "name": "stdout",
     "output_type": "stream",
     "text": [
      " * sqlite:///lumia_ecommerce.db\n",
      "Done.\n"
     ]
    },
    {
     "data": {
      "text/html": [
       "<table>\n",
       "    <thead>\n",
       "        <tr>\n",
       "            <th>category</th>\n",
       "            <th>Average_Price</th>\n",
       "        </tr>\n",
       "    </thead>\n",
       "    <tbody>\n",
       "        <tr>\n",
       "            <td>Fashion</td>\n",
       "            <td>261.4665384615386</td>\n",
       "        </tr>\n",
       "        <tr>\n",
       "            <td>Electronics</td>\n",
       "            <td>256.1550259067357</td>\n",
       "        </tr>\n",
       "        <tr>\n",
       "            <td>Home &amp; Kitchen</td>\n",
       "            <td>253.98537572254324</td>\n",
       "        </tr>\n",
       "        <tr>\n",
       "            <td>Books</td>\n",
       "            <td>245.67896226415084</td>\n",
       "        </tr>\n",
       "        <tr>\n",
       "            <td>Toys</td>\n",
       "            <td>235.41691588785045</td>\n",
       "        </tr>\n",
       "    </tbody>\n",
       "</table>"
      ],
      "text/plain": [
       "[('Fashion', 261.4665384615386),\n",
       " ('Electronics', 256.1550259067357),\n",
       " ('Home & Kitchen', 253.98537572254324),\n",
       " ('Books', 245.67896226415084),\n",
       " ('Toys', 235.41691588785045)]"
      ]
     },
     "execution_count": 80,
     "metadata": {},
     "output_type": "execute_result"
    }
   ],
   "source": [
    "%%sql\n",
    "SELECT category, AVG(price) as Average_Price\n",
    "FROM products\n",
    "GROUP BY category\n",
    "ORDER BY Average_Price DESC;"
   ]
  },
  {
   "cell_type": "markdown",
   "metadata": {},
   "source": [
    "#### JOINS \n",
    "- Inner, Left, Right, Outer, Cross"
   ]
  },
  {
   "cell_type": "markdown",
   "metadata": {},
   "source": [
    "------------------------------------------------------"
   ]
  },
  {
   "cell_type": "markdown",
   "metadata": {},
   "source": [
    "- top 5 products ordered"
   ]
  },
  {
   "cell_type": "code",
   "execution_count": 91,
   "metadata": {},
   "outputs": [
    {
     "name": "stdout",
     "output_type": "stream",
     "text": [
      " * sqlite:///lumia_ecommerce.db\n",
      "Done.\n"
     ]
    },
    {
     "data": {
      "text/html": [
       "<table>\n",
       "    <thead>\n",
       "        <tr>\n",
       "            <th>product_name</th>\n",
       "            <th>order_date</th>\n",
       "        </tr>\n",
       "    </thead>\n",
       "    <tbody>\n",
       "        <tr>\n",
       "            <td>Product 949</td>\n",
       "            <td>2024-01-27 21:45:33</td>\n",
       "        </tr>\n",
       "        <tr>\n",
       "            <td>Product 877</td>\n",
       "            <td>2024-01-27 21:45:33</td>\n",
       "        </tr>\n",
       "        <tr>\n",
       "            <td>Product 854</td>\n",
       "            <td>2024-01-27 21:45:33</td>\n",
       "        </tr>\n",
       "        <tr>\n",
       "            <td>Product 612</td>\n",
       "            <td>2024-01-22 15:55:13</td>\n",
       "        </tr>\n",
       "        <tr>\n",
       "            <td>Product 602</td>\n",
       "            <td>2024-01-22 15:55:13</td>\n",
       "        </tr>\n",
       "    </tbody>\n",
       "</table>"
      ],
      "text/plain": [
       "[('Product 949', '2024-01-27 21:45:33'),\n",
       " ('Product 877', '2024-01-27 21:45:33'),\n",
       " ('Product 854', '2024-01-27 21:45:33'),\n",
       " ('Product 612', '2024-01-22 15:55:13'),\n",
       " ('Product 602', '2024-01-22 15:55:13')]"
      ]
     },
     "execution_count": 91,
     "metadata": {},
     "output_type": "execute_result"
    }
   ],
   "source": [
    "%%sql\n",
    "SELECT p.product_name, o.order_date\n",
    "FROM products p\n",
    "INNER JOIN order_items oi ON \n",
    "    p.product_id = oi.product_id\n",
    "INNER JOIN orders o ON\n",
    "    o.order_id = oi.order_id\n",
    "ORDER BY order_date DESC LIMIT 5;\n"
   ]
  },
  {
   "cell_type": "code",
   "execution_count": 96,
   "metadata": {},
   "outputs": [
    {
     "name": "stdout",
     "output_type": "stream",
     "text": [
      " * sqlite:///lumia_ecommerce.db\n",
      "Done.\n"
     ]
    },
    {
     "data": {
      "text/html": [
       "<table>\n",
       "    <thead>\n",
       "        <tr>\n",
       "            <th>customer_id</th>\n",
       "            <th>name</th>\n",
       "            <th>email</th>\n",
       "            <th>order_id</th>\n",
       "            <th>customer_id_1</th>\n",
       "            <th>order_date</th>\n",
       "        </tr>\n",
       "    </thead>\n",
       "    <tbody>\n",
       "        <tr>\n",
       "            <td>1</td>\n",
       "            <td>Customer1</td>\n",
       "            <td>ridwanclouds@ridwanclouds.com</td>\n",
       "            <td>1331</td>\n",
       "            <td>1</td>\n",
       "            <td>2018-08-13 02:38:21</td>\n",
       "        </tr>\n",
       "        <tr>\n",
       "            <td>2</td>\n",
       "            <td>Customer2</td>\n",
       "            <td>Customer2@gmail.com</td>\n",
       "            <td>26</td>\n",
       "            <td>2</td>\n",
       "            <td>2014-11-04 05:41:36</td>\n",
       "        </tr>\n",
       "        <tr>\n",
       "            <td>2</td>\n",
       "            <td>Customer2</td>\n",
       "            <td>Customer2@gmail.com</td>\n",
       "            <td>132</td>\n",
       "            <td>2</td>\n",
       "            <td>2016-02-17 07:12:21</td>\n",
       "        </tr>\n",
       "    </tbody>\n",
       "</table>"
      ],
      "text/plain": [
       "[(1, 'Customer1', 'ridwanclouds@ridwanclouds.com', 1331, 1, '2018-08-13 02:38:21'),\n",
       " (2, 'Customer2', 'Customer2@gmail.com', 26, 2, '2014-11-04 05:41:36'),\n",
       " (2, 'Customer2', 'Customer2@gmail.com', 132, 2, '2016-02-17 07:12:21')]"
      ]
     },
     "execution_count": 96,
     "metadata": {},
     "output_type": "execute_result"
    }
   ],
   "source": [
    "%%sql\n",
    "SELECT *\n",
    "FROM customers c\n",
    "LEFT JOIN orders o ON \n",
    "    c.customer_id = o.customer_id\n",
    "LIMIT 3;"
   ]
  },
  {
   "cell_type": "markdown",
   "metadata": {},
   "source": [
    "### UNION\n",
    "- combine two or more 'SELECT' statements into a single result set, provided same number of columns, columns are in order, and compatible data types,  in the SELECT statements you are trying to unify. \n",
    "- UNION ALL will remove duplicates\n"
   ]
  },
  {
   "cell_type": "code",
   "execution_count": 105,
   "metadata": {},
   "outputs": [
    {
     "name": "stdout",
     "output_type": "stream",
     "text": [
      " * sqlite:///lumia_ecommerce.db\n",
      "Done.\n"
     ]
    },
    {
     "data": {
      "text/html": [
       "<table>\n",
       "    <thead>\n",
       "        <tr>\n",
       "            <th>customer_id</th>\n",
       "            <th>name</th>\n",
       "            <th>email</th>\n",
       "        </tr>\n",
       "    </thead>\n",
       "    <tbody>\n",
       "        <tr>\n",
       "            <td>1</td>\n",
       "            <td>Customer1</td>\n",
       "            <td>ridwanclouds@ridwanclouds.com</td>\n",
       "        </tr>\n",
       "        <tr>\n",
       "            <td>1</td>\n",
       "            <td>Product 1</td>\n",
       "            <td>Fashion</td>\n",
       "        </tr>\n",
       "        <tr>\n",
       "            <td>2</td>\n",
       "            <td>Customer2</td>\n",
       "            <td>Customer2@gmail.com</td>\n",
       "        </tr>\n",
       "        <tr>\n",
       "            <td>2</td>\n",
       "            <td>Product 2</td>\n",
       "            <td>Home &amp; Kitchen</td>\n",
       "        </tr>\n",
       "        <tr>\n",
       "            <td>3</td>\n",
       "            <td>Customer3</td>\n",
       "            <td>Customer3@gmail.com</td>\n",
       "        </tr>\n",
       "        <tr>\n",
       "            <td>3</td>\n",
       "            <td>Product 3</td>\n",
       "            <td>Toys</td>\n",
       "        </tr>\n",
       "    </tbody>\n",
       "</table>"
      ],
      "text/plain": [
       "[(1, 'Customer1', 'ridwanclouds@ridwanclouds.com'),\n",
       " (1, 'Product 1', 'Fashion'),\n",
       " (2, 'Customer2', 'Customer2@gmail.com'),\n",
       " (2, 'Product 2', 'Home & Kitchen'),\n",
       " (3, 'Customer3', 'Customer3@gmail.com'),\n",
       " (3, 'Product 3', 'Toys')]"
      ]
     },
     "execution_count": 105,
     "metadata": {},
     "output_type": "execute_result"
    }
   ],
   "source": [
    "%%sql\n",
    "SELECT customer_id, name, email\n",
    "FROM customers\n",
    "UNION\n",
    "SELECT product_id, product_name, category\n",
    "FROM products\n",
    "LIMIT 6;\n"
   ]
  },
  {
   "cell_type": "markdown",
   "metadata": {},
   "source": [
    "### Concatenation | |"
   ]
  },
  {
   "cell_type": "code",
   "execution_count": 112,
   "metadata": {},
   "outputs": [
    {
     "name": "stdout",
     "output_type": "stream",
     "text": [
      " * sqlite:///lumia_ecommerce.db\n",
      "Done.\n"
     ]
    },
    {
     "data": {
      "text/html": [
       "<table>\n",
       "    <thead>\n",
       "        <tr>\n",
       "            <th>Full_Details</th>\n",
       "        </tr>\n",
       "    </thead>\n",
       "    <tbody>\n",
       "        <tr>\n",
       "            <td>Customer1, ridwanclouds@ridwanclouds.com</td>\n",
       "        </tr>\n",
       "        <tr>\n",
       "            <td>Customer2, Customer2@gmail.com</td>\n",
       "        </tr>\n",
       "        <tr>\n",
       "            <td>Customer3, Customer3@gmail.com</td>\n",
       "        </tr>\n",
       "    </tbody>\n",
       "</table>"
      ],
      "text/plain": [
       "[('Customer1, ridwanclouds@ridwanclouds.com',),\n",
       " ('Customer2, Customer2@gmail.com',),\n",
       " ('Customer3, Customer3@gmail.com',)]"
      ]
     },
     "execution_count": 112,
     "metadata": {},
     "output_type": "execute_result"
    }
   ],
   "source": [
    "%%sql\n",
    "SELECT name || ', ' || email as 'Full_Details'\n",
    "FROM customers\n",
    "LIMIT 3;"
   ]
  },
  {
   "cell_type": "code",
   "execution_count": null,
   "metadata": {},
   "outputs": [],
   "source": []
  }
 ],
 "metadata": {
  "kernelspec": {
   "display_name": "base",
   "language": "python",
   "name": "python3"
  },
  "language_info": {
   "codemirror_mode": {
    "name": "ipython",
    "version": 3
   },
   "file_extension": ".py",
   "mimetype": "text/x-python",
   "name": "python",
   "nbconvert_exporter": "python",
   "pygments_lexer": "ipython3",
   "version": "3.11.7"
  }
 },
 "nbformat": 4,
 "nbformat_minor": 2
}
